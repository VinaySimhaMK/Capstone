{
 "cells": [
  {
   "cell_type": "markdown",
   "id": "2264e005",
   "metadata": {},
   "source": [
    "# Data Pre-Processing and Cleaning"
   ]
  },
  {
   "cell_type": "code",
   "execution_count": 1,
   "id": "56838d6a",
   "metadata": {},
   "outputs": [],
   "source": [
    "# Impporting required libraries\n",
    "import numpy as np\n",
    "import pandas as pd"
   ]
  },
  {
   "cell_type": "code",
   "execution_count": 2,
   "id": "8940fa09",
   "metadata": {},
   "outputs": [],
   "source": [
    "# Importing databases\n",
    "appearances = pd.read_excel(\"C:\\\\Users\\\\vinay\\\\OneDrive\\\\Desktop\\\\NIIT Related\\\\ds_c8_datafiles-main\\\\appearances.xlsx\")\n",
    "game_events = pd.read_excel(\"C:\\\\Users\\\\vinay\\\\OneDrive\\\\Desktop\\\\NIIT Related\\\\ds_c8_datafiles-main\\\\game_events.xlsx\")\n",
    "game_lineups = pd.read_excel(\"C:\\\\Users\\\\vinay\\\\OneDrive\\\\Desktop\\\\NIIT Related\\\\ds_c8_datafiles-main\\\\game_lineups.xlsx\")\n",
    "games = pd.read_excel(\"C:\\\\Users\\\\vinay\\\\OneDrive\\\\Desktop\\\\NIIT Related\\\\ds_c8_datafiles-main\\\\games.xlsx\") \n",
    "players = pd.read_excel(\"C:\\\\Users\\\\vinay\\\\OneDrive\\\\Desktop\\\\NIIT Related\\\\ds_c8_datafiles-main\\\\players.xlsx\")"
   ]
  },
  {
   "cell_type": "code",
   "execution_count": 3,
   "id": "a341b91f",
   "metadata": {},
   "outputs": [
    {
     "name": "stdout",
     "output_type": "stream",
     "text": [
      "<class 'pandas.core.frame.DataFrame'>\n",
      "RangeIndex: 3568 entries, 0 to 3567\n",
      "Data columns (total 11 columns):\n",
      " #   Column          Non-Null Count  Dtype         \n",
      "---  ------          --------------  -----         \n",
      " 0   appearance_id   3568 non-null   object        \n",
      " 1   game_id         3568 non-null   int64         \n",
      " 2   player_id       3568 non-null   int64         \n",
      " 3   date            3568 non-null   datetime64[ns]\n",
      " 4   player_name     3568 non-null   object        \n",
      " 5   competition_id  3568 non-null   object        \n",
      " 6   yellow_cards    3568 non-null   int64         \n",
      " 7   red_cards       3568 non-null   int64         \n",
      " 8   goals           3568 non-null   int64         \n",
      " 9   assists         3568 non-null   int64         \n",
      " 10  minutes_played  3568 non-null   int64         \n",
      "dtypes: datetime64[ns](1), int64(7), object(3)\n",
      "memory usage: 306.8+ KB\n"
     ]
    }
   ],
   "source": [
    "# Appearances table details using info()\n",
    "appearances.info()"
   ]
  },
  {
   "cell_type": "code",
   "execution_count": 4,
   "id": "dfae847a",
   "metadata": {},
   "outputs": [
    {
     "name": "stdout",
     "output_type": "stream",
     "text": [
      "<class 'pandas.core.frame.DataFrame'>\n",
      "RangeIndex: 1849 entries, 0 to 1848\n",
      "Data columns (total 9 columns):\n",
      " #   Column            Non-Null Count  Dtype         \n",
      "---  ------            --------------  -----         \n",
      " 0   game_event_id     1849 non-null   object        \n",
      " 1   date              1849 non-null   datetime64[ns]\n",
      " 2   game_id           1849 non-null   int64         \n",
      " 3   minute            1849 non-null   int64         \n",
      " 4   type              1849 non-null   object        \n",
      " 5   player_id         1849 non-null   int64         \n",
      " 6   description       916 non-null    object        \n",
      " 7   player_in_id      1155 non-null   float64       \n",
      " 8   player_assist_id  140 non-null    float64       \n",
      "dtypes: datetime64[ns](1), float64(2), int64(3), object(3)\n",
      "memory usage: 130.1+ KB\n"
     ]
    }
   ],
   "source": [
    "# Game_events table details using info()\n",
    "game_events.info()"
   ]
  },
  {
   "cell_type": "code",
   "execution_count": 5,
   "id": "52bf3494",
   "metadata": {},
   "outputs": [
    {
     "name": "stdout",
     "output_type": "stream",
     "text": [
      "<class 'pandas.core.frame.DataFrame'>\n",
      "RangeIndex: 219 entries, 0 to 218\n",
      "Data columns (total 8 columns):\n",
      " #   Column           Non-Null Count  Dtype \n",
      "---  ------           --------------  ----- \n",
      " 0   game_lineups_id  219 non-null    object\n",
      " 1   game_id          219 non-null    int64 \n",
      " 2   type             219 non-null    object\n",
      " 3   number           219 non-null    int64 \n",
      " 4   player_id        219 non-null    int64 \n",
      " 5   player_name      219 non-null    object\n",
      " 6   team_captain     219 non-null    int64 \n",
      " 7   position         219 non-null    object\n",
      "dtypes: int64(4), object(4)\n",
      "memory usage: 13.8+ KB\n"
     ]
    }
   ],
   "source": [
    "# Game_lineups table details using info()\n",
    "game_lineups.info()"
   ]
  },
  {
   "cell_type": "code",
   "execution_count": 6,
   "id": "2af5a32b",
   "metadata": {},
   "outputs": [
    {
     "name": "stdout",
     "output_type": "stream",
     "text": [
      "<class 'pandas.core.frame.DataFrame'>\n",
      "RangeIndex: 3268 entries, 0 to 3267\n",
      "Data columns (total 20 columns):\n",
      " #   Column                  Non-Null Count  Dtype         \n",
      "---  ------                  --------------  -----         \n",
      " 0   game_id                 3268 non-null   int64         \n",
      " 1   competition_id          3268 non-null   object        \n",
      " 2   season                  3268 non-null   int64         \n",
      " 3   round                   3268 non-null   object        \n",
      " 4   date                    3268 non-null   datetime64[ns]\n",
      " 5   home_club_goals         3268 non-null   int64         \n",
      " 6   away_club_goals         3268 non-null   int64         \n",
      " 7   home_club_position      2789 non-null   float64       \n",
      " 8   away_club_position      2789 non-null   float64       \n",
      " 9   home_club_manager_name  3263 non-null   object        \n",
      " 10  away_club_manager_name  3263 non-null   object        \n",
      " 11  stadium                 3268 non-null   object        \n",
      " 12  attendance              3153 non-null   float64       \n",
      " 13  referee                 3266 non-null   object        \n",
      " 14  home_club_formation     0 non-null      float64       \n",
      " 15  away_club_formation     0 non-null      float64       \n",
      " 16  home_club_name          3158 non-null   object        \n",
      " 17  away_club_name          3205 non-null   object        \n",
      " 18  aggregate               3268 non-null   object        \n",
      " 19  competition_type        3268 non-null   object        \n",
      "dtypes: datetime64[ns](1), float64(5), int64(4), object(10)\n",
      "memory usage: 510.8+ KB\n"
     ]
    }
   ],
   "source": [
    "# Appearances table details using info()\n",
    "games.info()"
   ]
  },
  {
   "cell_type": "code",
   "execution_count": 7,
   "id": "ef3a9846",
   "metadata": {},
   "outputs": [
    {
     "name": "stdout",
     "output_type": "stream",
     "text": [
      "<class 'pandas.core.frame.DataFrame'>\n",
      "RangeIndex: 152 entries, 0 to 151\n",
      "Data columns (total 15 columns):\n",
      " #   Column                       Non-Null Count  Dtype         \n",
      "---  ------                       --------------  -----         \n",
      " 0   player_id                    152 non-null    int64         \n",
      " 1   name                         152 non-null    object        \n",
      " 2   last_season                  152 non-null    int64         \n",
      " 3   current_club_id              152 non-null    int64         \n",
      " 4   player_code                  152 non-null    object        \n",
      " 5   country_of_birth             152 non-null    object        \n",
      " 6   date_of_birth                152 non-null    datetime64[ns]\n",
      " 7   sub_position                 152 non-null    object        \n",
      " 8   position                     152 non-null    object        \n",
      " 9   foot                         141 non-null    object        \n",
      " 10  height_in_cm                 149 non-null    float64       \n",
      " 11  market_value_in_eur          114 non-null    float64       \n",
      " 12  highest_market_value_in_eur  148 non-null    float64       \n",
      " 13  contract_expiration_date     106 non-null    datetime64[ns]\n",
      " 14  agent_name                   107 non-null    object        \n",
      "dtypes: datetime64[ns](2), float64(3), int64(3), object(7)\n",
      "memory usage: 17.9+ KB\n"
     ]
    }
   ],
   "source": [
    "# Players table details using info()\n",
    "players.info()"
   ]
  },
  {
   "cell_type": "code",
   "execution_count": 8,
   "id": "c8c01cb7",
   "metadata": {},
   "outputs": [
    {
     "data": {
      "text/plain": [
       "appearance_id     0\n",
       "game_id           0\n",
       "player_id         0\n",
       "date              0\n",
       "player_name       0\n",
       "competition_id    0\n",
       "yellow_cards      0\n",
       "red_cards         0\n",
       "goals             0\n",
       "assists           0\n",
       "minutes_played    0\n",
       "dtype: int64"
      ]
     },
     "execution_count": 8,
     "metadata": {},
     "output_type": "execute_result"
    }
   ],
   "source": [
    "# Checking for null values\n",
    "appearances.isnull().sum()"
   ]
  },
  {
   "cell_type": "code",
   "execution_count": 9,
   "id": "ddf1e780",
   "metadata": {},
   "outputs": [
    {
     "data": {
      "text/plain": [
       "game_event_id          0\n",
       "date                   0\n",
       "game_id                0\n",
       "minute                 0\n",
       "type                   0\n",
       "player_id              0\n",
       "description          933\n",
       "player_in_id         694\n",
       "player_assist_id    1709\n",
       "dtype: int64"
      ]
     },
     "execution_count": 9,
     "metadata": {},
     "output_type": "execute_result"
    }
   ],
   "source": [
    "# Checking for null values\n",
    "game_events.isnull().sum()"
   ]
  },
  {
   "cell_type": "code",
   "execution_count": 10,
   "id": "17967784",
   "metadata": {},
   "outputs": [],
   "source": [
    "# missing value treatment and dropping unnecessary columns\n",
    "game_events[\"description\"]=game_events[\"description\"].fillna(\"N/A\")\n",
    "game_events[\"Sub/Assist_player_id\"] = game_events['player_in_id'].combine_first(game_events['player_assist_id'])\n",
    "game_events = game_events.drop(['player_in_id', 'player_assist_id'], axis=1)\n",
    "game_events[\"Sub/Assist_player_id\"] = game_events[\"Sub/Assist_player_id\"].fillna(\"-\")"
   ]
  },
  {
   "cell_type": "code",
   "execution_count": 11,
   "id": "a54e4007",
   "metadata": {},
   "outputs": [
    {
     "data": {
      "text/plain": [
       "game_event_id           0\n",
       "date                    0\n",
       "game_id                 0\n",
       "minute                  0\n",
       "type                    0\n",
       "player_id               0\n",
       "description             0\n",
       "Sub/Assist_player_id    0\n",
       "dtype: int64"
      ]
     },
     "execution_count": 11,
     "metadata": {},
     "output_type": "execute_result"
    }
   ],
   "source": [
    "# Checking for null values\n",
    "game_events.isnull().sum()"
   ]
  },
  {
   "cell_type": "code",
   "execution_count": 12,
   "id": "de65deae",
   "metadata": {},
   "outputs": [
    {
     "data": {
      "text/plain": [
       "game_lineups_id    0\n",
       "game_id            0\n",
       "type               0\n",
       "number             0\n",
       "player_id          0\n",
       "player_name        0\n",
       "team_captain       0\n",
       "position           0\n",
       "dtype: int64"
      ]
     },
     "execution_count": 12,
     "metadata": {},
     "output_type": "execute_result"
    }
   ],
   "source": [
    "# Checking for null values\n",
    "game_lineups.isnull().sum()"
   ]
  },
  {
   "cell_type": "code",
   "execution_count": 13,
   "id": "eadb5df2",
   "metadata": {},
   "outputs": [
    {
     "data": {
      "text/plain": [
       "game_id                      0\n",
       "competition_id               0\n",
       "season                       0\n",
       "round                        0\n",
       "date                         0\n",
       "home_club_goals              0\n",
       "away_club_goals              0\n",
       "home_club_position         479\n",
       "away_club_position         479\n",
       "home_club_manager_name       5\n",
       "away_club_manager_name       5\n",
       "stadium                      0\n",
       "attendance                 115\n",
       "referee                      2\n",
       "home_club_formation       3268\n",
       "away_club_formation       3268\n",
       "home_club_name             110\n",
       "away_club_name              63\n",
       "aggregate                    0\n",
       "competition_type             0\n",
       "dtype: int64"
      ]
     },
     "execution_count": 13,
     "metadata": {},
     "output_type": "execute_result"
    }
   ],
   "source": [
    "# Checking for null values\n",
    "games.isnull().sum()"
   ]
  },
  {
   "cell_type": "code",
   "execution_count": 15,
   "id": "0990012f",
   "metadata": {},
   "outputs": [],
   "source": [
    "# Missing value treatment\n",
    "columns_to_fill = [\"home_club_position\", \"away_club_position\", \"home_club_manager_name\", \n",
    "                   \"away_club_manager_name\", \"referee\", \"home_club_name\", \"away_club_name\"]\n",
    "games[columns_to_fill] = games[columns_to_fill].fillna(\"N/A\")\n",
    "games = games.drop(['home_club_formation', 'away_club_formation'], axis=1)"
   ]
  },
  {
   "cell_type": "code",
   "execution_count": 17,
   "id": "4b52cb1c",
   "metadata": {},
   "outputs": [
    {
     "data": {
      "text/plain": [
       "game_id                     0\n",
       "competition_id              0\n",
       "season                      0\n",
       "round                       0\n",
       "date                        0\n",
       "home_club_goals             0\n",
       "away_club_goals             0\n",
       "home_club_position          0\n",
       "away_club_position          0\n",
       "home_club_manager_name      0\n",
       "away_club_manager_name      0\n",
       "stadium                     0\n",
       "attendance                115\n",
       "referee                     0\n",
       "home_club_name              0\n",
       "away_club_name              0\n",
       "aggregate                   0\n",
       "competition_type            0\n",
       "dtype: int64"
      ]
     },
     "execution_count": 17,
     "metadata": {},
     "output_type": "execute_result"
    }
   ],
   "source": [
    "# Checking for null values\n",
    "games.isnull().sum()"
   ]
  },
  {
   "cell_type": "code",
   "execution_count": 18,
   "id": "b01fdaad",
   "metadata": {
    "collapsed": true
   },
   "outputs": [
    {
     "name": "stderr",
     "output_type": "stream",
     "text": [
      "C:\\Users\\vinay\\AppData\\Local\\Temp\\ipykernel_25252\\3748095680.py:5: FutureWarning: Not prepending group keys to the result index of transform-like apply. In the future, the group keys will be included in the index, regardless of whether the applied function returns a like-indexed object.\n",
      "To preserve the previous behavior, use\n",
      "\n",
      "\t>>> .groupby(..., group_keys=False)\n",
      "\n",
      "To adopt the future behavior and silence this warning, use \n",
      "\n",
      "\t>>> .groupby(..., group_keys=True)\n",
      "  games = games.groupby('stadium').apply(fill_missing_attendance)\n"
     ]
    }
   ],
   "source": [
    "# Missing value treatmet by using group by and filling null values by mean of respective stadium\n",
    "def fill_missing_attendance(group):\n",
    "    group['attendance'] = group['attendance'].fillna(group['attendance'].mean())\n",
    "    return group\n",
    "\n",
    "games = games.groupby('stadium').apply(fill_missing_attendance)"
   ]
  },
  {
   "cell_type": "code",
   "execution_count": 19,
   "id": "98422d5e",
   "metadata": {},
   "outputs": [
    {
     "data": {
      "text/plain": [
       "game_id                    0\n",
       "competition_id             0\n",
       "season                     0\n",
       "round                      0\n",
       "date                       0\n",
       "home_club_goals            0\n",
       "away_club_goals            0\n",
       "home_club_position         0\n",
       "away_club_position         0\n",
       "home_club_manager_name     0\n",
       "away_club_manager_name     0\n",
       "stadium                    0\n",
       "attendance                13\n",
       "referee                    0\n",
       "home_club_name             0\n",
       "away_club_name             0\n",
       "aggregate                  0\n",
       "competition_type           0\n",
       "dtype: int64"
      ]
     },
     "execution_count": 19,
     "metadata": {},
     "output_type": "execute_result"
    }
   ],
   "source": [
    "# Checking for null values\n",
    "games.isnull().sum()"
   ]
  },
  {
   "cell_type": "code",
   "execution_count": 22,
   "id": "94d59858",
   "metadata": {},
   "outputs": [],
   "source": [
    "# Missing value treatment\n",
    "min_attendance = np.min(games[\"attendance\"])\n",
    "games[\"attendance\"].fillna(min_attendance, inplace=True)"
   ]
  },
  {
   "cell_type": "code",
   "execution_count": 23,
   "id": "4e9aab45",
   "metadata": {},
   "outputs": [
    {
     "data": {
      "text/plain": [
       "game_id                   0\n",
       "competition_id            0\n",
       "season                    0\n",
       "round                     0\n",
       "date                      0\n",
       "home_club_goals           0\n",
       "away_club_goals           0\n",
       "home_club_position        0\n",
       "away_club_position        0\n",
       "home_club_manager_name    0\n",
       "away_club_manager_name    0\n",
       "stadium                   0\n",
       "attendance                0\n",
       "referee                   0\n",
       "home_club_name            0\n",
       "away_club_name            0\n",
       "aggregate                 0\n",
       "competition_type          0\n",
       "dtype: int64"
      ]
     },
     "execution_count": 23,
     "metadata": {},
     "output_type": "execute_result"
    }
   ],
   "source": [
    "# Checking for null values\n",
    "games.isnull().sum()"
   ]
  },
  {
   "cell_type": "code",
   "execution_count": 14,
   "id": "150025fb",
   "metadata": {},
   "outputs": [
    {
     "data": {
      "text/plain": [
       "player_id                       0\n",
       "name                            0\n",
       "last_season                     0\n",
       "current_club_id                 0\n",
       "player_code                     0\n",
       "country_of_birth                0\n",
       "date_of_birth                   0\n",
       "sub_position                    0\n",
       "position                        0\n",
       "foot                           11\n",
       "height_in_cm                    3\n",
       "market_value_in_eur            38\n",
       "highest_market_value_in_eur     4\n",
       "contract_expiration_date       46\n",
       "agent_name                     45\n",
       "dtype: int64"
      ]
     },
     "execution_count": 14,
     "metadata": {},
     "output_type": "execute_result"
    }
   ],
   "source": [
    "# Checking for null values\n",
    "players.isnull().sum()"
   ]
  },
  {
   "cell_type": "code",
   "execution_count": 42,
   "id": "a571cb53",
   "metadata": {},
   "outputs": [],
   "source": [
    "# Getting mode for missing value imputation\n",
    "mode_foot = players[\"foot\"].mode().iloc[0]\n",
    "players[\"foot\"].fillna(mode_foot, inplace=True)"
   ]
  },
  {
   "cell_type": "code",
   "execution_count": 43,
   "id": "78ffd935",
   "metadata": {},
   "outputs": [
    {
     "data": {
      "text/plain": [
       "'right'"
      ]
     },
     "execution_count": 43,
     "metadata": {},
     "output_type": "execute_result"
    }
   ],
   "source": [
    "mode_foot"
   ]
  },
  {
   "cell_type": "code",
   "execution_count": 44,
   "id": "47497e06",
   "metadata": {},
   "outputs": [],
   "source": [
    "# Getting mean for missing value imputation\n",
    "Average_height = players[\"height_in_cm\"].mean()\n",
    "players[\"height_in_cm\"].fillna(Average_height, inplace=True)"
   ]
  },
  {
   "cell_type": "code",
   "execution_count": 45,
   "id": "3df3d051",
   "metadata": {},
   "outputs": [],
   "source": [
    "# Getting minimum for missing value imputation\n",
    "Min_market_value = np.min(players[\"market_value_in_eur\"])\n",
    "players[\"market_value_in_eur\"].fillna(Min_market_value, inplace=True)"
   ]
  },
  {
   "cell_type": "code",
   "execution_count": 46,
   "id": "82866977",
   "metadata": {},
   "outputs": [],
   "source": [
    "players[\"highest_market_value_in_eur\"].fillna(Min_market_value, inplace=True)"
   ]
  },
  {
   "cell_type": "code",
   "execution_count": 51,
   "id": "56c3892c",
   "metadata": {},
   "outputs": [],
   "source": [
    "# Getting mode for missing value imputation\n",
    "Mode_Contract = players[\"contract_expiration_date\"].mode().iloc[0]\n",
    "players[\"contract_expiration_date\"].fillna(Mode_Contract,inplace=True)"
   ]
  },
  {
   "cell_type": "code",
   "execution_count": 52,
   "id": "fa0a08a0",
   "metadata": {},
   "outputs": [
    {
     "data": {
      "text/plain": [
       "Timestamp('2025-06-30 00:00:00')"
      ]
     },
     "execution_count": 52,
     "metadata": {},
     "output_type": "execute_result"
    }
   ],
   "source": [
    "Mode_Contract"
   ]
  },
  {
   "cell_type": "code",
   "execution_count": 53,
   "id": "2d68f6c6",
   "metadata": {},
   "outputs": [],
   "source": [
    "# Missing value imputation by \"N/A\"\n",
    "players[\"agent_name\"] = players[\"agent_name\"].fillna(\"N/A\")"
   ]
  },
  {
   "cell_type": "code",
   "execution_count": 54,
   "id": "6cc4e0ae",
   "metadata": {},
   "outputs": [
    {
     "data": {
      "text/plain": [
       "player_id                      0\n",
       "name                           0\n",
       "last_season                    0\n",
       "current_club_id                0\n",
       "player_code                    0\n",
       "country_of_birth               0\n",
       "date_of_birth                  0\n",
       "sub_position                   0\n",
       "position                       0\n",
       "foot                           0\n",
       "height_in_cm                   0\n",
       "market_value_in_eur            0\n",
       "highest_market_value_in_eur    0\n",
       "contract_expiration_date       0\n",
       "agent_name                     0\n",
       "dtype: int64"
      ]
     },
     "execution_count": 54,
     "metadata": {},
     "output_type": "execute_result"
    }
   ],
   "source": [
    "#Checking for null\n",
    "players.isnull().sum()"
   ]
  },
  {
   "cell_type": "markdown",
   "id": "7e601bc3",
   "metadata": {},
   "source": [
    "# ---------------------------------------------------------------------------------------------------------------"
   ]
  },
  {
   "cell_type": "markdown",
   "id": "b5fcf0c9",
   "metadata": {},
   "source": [
    "# Data merging"
   ]
  },
  {
   "cell_type": "code",
   "execution_count": 55,
   "id": "97f35a54",
   "metadata": {},
   "outputs": [],
   "source": [
    "# Merging Appearance and Games table using left join\n",
    "Games_Appearance = pd.merge(games,appearances,on=\"game_id\", how = \"left\", suffixes=(\"_game\",\"_appearances\"))"
   ]
  },
  {
   "cell_type": "code",
   "execution_count": 60,
   "id": "834e3023",
   "metadata": {},
   "outputs": [
    {
     "data": {
      "text/plain": [
       "(3568, 28)"
      ]
     },
     "execution_count": 60,
     "metadata": {},
     "output_type": "execute_result"
    }
   ],
   "source": [
    "Games_Appearance.shape"
   ]
  },
  {
   "cell_type": "code",
   "execution_count": 61,
   "id": "f40cfa03",
   "metadata": {},
   "outputs": [],
   "source": [
    "# Merging previously merged along with game_lineups using outer join\n",
    "Merged1 = pd.merge(Games_Appearance,game_lineups, on =\"game_id\", how = \"outer\", suffixes=(\"_Merged\",\"_lineups\"))"
   ]
  },
  {
   "cell_type": "code",
   "execution_count": 63,
   "id": "4a4b85d6",
   "metadata": {},
   "outputs": [
    {
     "data": {
      "text/plain": [
       "(3787, 35)"
      ]
     },
     "execution_count": 63,
     "metadata": {},
     "output_type": "execute_result"
    }
   ],
   "source": [
    "Merged1.shape"
   ]
  },
  {
   "cell_type": "code",
   "execution_count": 64,
   "id": "905c54ba",
   "metadata": {},
   "outputs": [],
   "source": [
    "# Merging previously merged along with game_events using outer join\n",
    "Merged2 = pd.merge(Merged1,game_events, on = \"game_id\", how=\"outer\", suffixes=(\"_Merged2\",\"_events\"))"
   ]
  },
  {
   "cell_type": "code",
   "execution_count": 65,
   "id": "aa1b8f0e",
   "metadata": {},
   "outputs": [
    {
     "data": {
      "text/plain": [
       "(4686, 42)"
      ]
     },
     "execution_count": 65,
     "metadata": {},
     "output_type": "execute_result"
    }
   ],
   "source": [
    "Merged2.shape"
   ]
  },
  {
   "cell_type": "code",
   "execution_count": 66,
   "id": "38937f75",
   "metadata": {},
   "outputs": [],
   "source": [
    "# Merging previously merged along with players using outer join\n",
    "Final_football_data = pd.merge(Merged2,players, on = \"player_id\", how = \"outer\", suffixes=(\"_Merged3\",\"_final\"))"
   ]
  },
  {
   "cell_type": "code",
   "execution_count": 67,
   "id": "017f9837",
   "metadata": {},
   "outputs": [
    {
     "data": {
      "text/plain": [
       "(4761, 56)"
      ]
     },
     "execution_count": 67,
     "metadata": {},
     "output_type": "execute_result"
    }
   ],
   "source": [
    "Final_football_data.shape"
   ]
  },
  {
   "cell_type": "code",
   "execution_count": 73,
   "id": "0a8675a5",
   "metadata": {},
   "outputs": [
    {
     "data": {
      "text/plain": [
       "721"
      ]
     },
     "execution_count": 73,
     "metadata": {},
     "output_type": "execute_result"
    }
   ],
   "source": [
    "# Checking for duplicated\n",
    "Final_football_data[\"game_id\"].duplicated().sum()"
   ]
  },
  {
   "cell_type": "code",
   "execution_count": 78,
   "id": "de8ee9cb",
   "metadata": {},
   "outputs": [],
   "source": [
    "# Dropping duplicates\n",
    "Final_football_data.drop_duplicates(subset=\"game_id\", inplace=True)"
   ]
  },
  {
   "cell_type": "code",
   "execution_count": 79,
   "id": "d270c748",
   "metadata": {},
   "outputs": [
    {
     "data": {
      "text/plain": [
       "(4040, 56)"
      ]
     },
     "execution_count": 79,
     "metadata": {},
     "output_type": "execute_result"
    }
   ],
   "source": [
    "# Checking the size of the final dataset size\n",
    "Final_football_data.shape"
   ]
  },
  {
   "cell_type": "markdown",
   "id": "5fb1cc94",
   "metadata": {},
   "source": [
    "# ---------------------------------------------------------------------------------------------------------------"
   ]
  },
  {
   "cell_type": "markdown",
   "id": "b4c28cae",
   "metadata": {},
   "source": [
    "# Exportig the data"
   ]
  },
  {
   "cell_type": "code",
   "execution_count": 80,
   "id": "f014a8ee",
   "metadata": {},
   "outputs": [
    {
     "data": {
      "text/plain": [
       "'C:\\\\Users\\\\vinay\\\\OneDrive\\\\Desktop'"
      ]
     },
     "execution_count": 80,
     "metadata": {},
     "output_type": "execute_result"
    }
   ],
   "source": [
    "%pwd"
   ]
  },
  {
   "cell_type": "code",
   "execution_count": 82,
   "id": "064ea7cf",
   "metadata": {},
   "outputs": [],
   "source": [
    "appearances.to_csv(\"Appearances.csv\")\n",
    "game_events.to_csv(\"Game_events.csv\")\n",
    "game_lineups.to_csv(\"Game_lineups.csv\")\n",
    "games.to_csv(\"Games.csv\")\n",
    "players.to_csv(\"Players.csv\")\n",
    "Final_football_data.to_csv(\"Football_data.csv\")"
   ]
  },
  {
   "cell_type": "markdown",
   "id": "5cccdb74",
   "metadata": {},
   "source": [
    "# ---------------------------------------------------------------------------------------------------------------"
   ]
  },
  {
   "cell_type": "markdown",
   "id": "caae772d",
   "metadata": {},
   "source": [
    "# Exporting dataset to SQL"
   ]
  },
  {
   "cell_type": "code",
   "execution_count": null,
   "id": "61d11de7",
   "metadata": {},
   "outputs": [],
   "source": [
    "# Using mysql.connector exporting the data to SQL for some business questions."
   ]
  },
  {
   "cell_type": "code",
   "execution_count": 83,
   "id": "67744bb2",
   "metadata": {},
   "outputs": [],
   "source": [
    "import mysql.connector as sql"
   ]
  },
  {
   "cell_type": "code",
   "execution_count": 86,
   "id": "f8b95716",
   "metadata": {},
   "outputs": [],
   "source": [
    "import pandas as pd\n",
    "from sqlalchemy import create_engine\n",
    "\n",
    "database_credentials = {\n",
    "    'username': 'root',\n",
    "    'password': 'vinaysimha1512',\n",
    "    'host': 'localhost',\n",
    "    'database': 'Football',}\n",
    "\n",
    "\n",
    "# Connect to MySQL database using SQLAlchemy\n",
    "engine = create_engine(f\"mysql+pymysql://{database_credentials['username']}:{database_credentials['password']}@{database_credentials['host']}/{database_credentials['database']}\")\n",
    "# Insert the games into a new table \n",
    "games.to_sql('games', con=engine, index=False, if_exists='replace')\n",
    "\n",
    "# Close the database connection\n",
    "engine.dispose()"
   ]
  },
  {
   "cell_type": "code",
   "execution_count": 87,
   "id": "67fb46a4",
   "metadata": {},
   "outputs": [],
   "source": [
    "import pandas as pd\n",
    "from sqlalchemy import create_engine\n",
    "\n",
    "database_credentials = {\n",
    "    'username': 'root',\n",
    "    'password': 'vinaysimha1512',\n",
    "    'host': 'localhost',\n",
    "    'database': 'Football',}\n",
    "\n",
    "\n",
    "# Connect to MySQL database using SQLAlchemy\n",
    "engine = create_engine(f\"mysql+pymysql://{database_credentials['username']}:{database_credentials['password']}@{database_credentials['host']}/{database_credentials['database']}\")\n",
    "# Insert the games into a new table \n",
    "appearances.to_sql('appearances', con=engine, index=False, if_exists='replace')\n",
    "\n",
    "# Close the database connection\n",
    "engine.dispose()"
   ]
  },
  {
   "cell_type": "code",
   "execution_count": 88,
   "id": "d8b4ded3",
   "metadata": {},
   "outputs": [],
   "source": [
    "import pandas as pd\n",
    "from sqlalchemy import create_engine\n",
    "\n",
    "database_credentials = {\n",
    "    'username': 'root',\n",
    "    'password': 'vinaysimha1512',\n",
    "    'host': 'localhost',\n",
    "    'database': 'Football',}\n",
    "\n",
    "\n",
    "# Connect to MySQL database using SQLAlchemy\n",
    "engine = create_engine(f\"mysql+pymysql://{database_credentials['username']}:{database_credentials['password']}@{database_credentials['host']}/{database_credentials['database']}\")\n",
    "# Insert the games into a new table \n",
    "game_events.to_sql('game_events', con=engine, index=False, if_exists='replace')\n",
    "\n",
    "# Close the database connection\n",
    "engine.dispose()"
   ]
  },
  {
   "cell_type": "code",
   "execution_count": 89,
   "id": "856395f4",
   "metadata": {},
   "outputs": [],
   "source": [
    "import pandas as pd\n",
    "from sqlalchemy import create_engine\n",
    "\n",
    "database_credentials = {\n",
    "    'username': 'root',\n",
    "    'password': 'vinaysimha1512',\n",
    "    'host': 'localhost',\n",
    "    'database': 'Football',}\n",
    "\n",
    "\n",
    "# Connect to MySQL database using SQLAlchemy\n",
    "engine = create_engine(f\"mysql+pymysql://{database_credentials['username']}:{database_credentials['password']}@{database_credentials['host']}/{database_credentials['database']}\")\n",
    "# Insert the games into a new table \n",
    "game_lineups.to_sql('game_lineups', con=engine, index=False, if_exists='replace')\n",
    "\n",
    "# Close the database connection\n",
    "engine.dispose()"
   ]
  },
  {
   "cell_type": "code",
   "execution_count": 90,
   "id": "e1e8bdab",
   "metadata": {},
   "outputs": [],
   "source": [
    "import pandas as pd\n",
    "from sqlalchemy import create_engine\n",
    "\n",
    "database_credentials = {\n",
    "    'username': 'root',\n",
    "    'password': 'vinaysimha1512',\n",
    "    'host': 'localhost',\n",
    "    'database': 'Football',}\n",
    "\n",
    "\n",
    "# Connect to MySQL database using SQLAlchemy\n",
    "engine = create_engine(f\"mysql+pymysql://{database_credentials['username']}:{database_credentials['password']}@{database_credentials['host']}/{database_credentials['database']}\")\n",
    "# Insert the games into a new table \n",
    "players.to_sql('players', con=engine, index=False, if_exists='replace')\n",
    "\n",
    "# Close the database connection\n",
    "engine.dispose()"
   ]
  }
 ],
 "metadata": {
  "kernelspec": {
   "display_name": "Python 3 (ipykernel)",
   "language": "python",
   "name": "python3"
  },
  "language_info": {
   "codemirror_mode": {
    "name": "ipython",
    "version": 3
   },
   "file_extension": ".py",
   "mimetype": "text/x-python",
   "name": "python",
   "nbconvert_exporter": "python",
   "pygments_lexer": "ipython3",
   "version": "3.11.3"
  }
 },
 "nbformat": 4,
 "nbformat_minor": 5
}
